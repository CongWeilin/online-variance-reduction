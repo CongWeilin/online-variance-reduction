{
 "cells": [
  {
   "cell_type": "markdown",
   "metadata": {},
   "source": [
    "# Variance Reduction for Linear Regression\n",
    "\n",
    "This is a toy example showcasing the usage of the sampler. We will look at how importance sampling for variance reduction helps in solving linear regression with SGD. The example is insired by [1]."
   ]
  },
  {
   "cell_type": "code",
   "execution_count": 24,
   "metadata": {
    "collapsed": true
   },
   "outputs": [],
   "source": [
    "import numpy as np\n",
    "import vrb\n",
    "import matplotlib.pyplot as plt\n",
    "\n",
    "np.random.seed(0)\n",
    "\n",
    "# dataset size and dimension\n",
    "n, d = 1000, 10\n",
    "\n",
    "nr_epoch = 50\n",
    "step_size = 0.001"
   ]
  },
  {
   "cell_type": "markdown",
   "metadata": {},
   "source": [
    "We sample a dataset $\\mathbf{X}$ where the features are sampled according to normal distributions with different means and variances. We then randomly select 10 points, and rescale them by 10. This way, we produce a dataset that amplifies the benefit of importance sampling."
   ]
  },
  {
   "cell_type": "code",
   "execution_count": 25,
   "metadata": {
    "collapsed": true
   },
   "outputs": [],
   "source": [
    "X = np.random.normal(loc=np.random.rand(d),\n",
    "                     scale=np.random.rand(d) * 10,\n",
    "                     size=(n, d))\n",
    "\n",
    "ind_to_scale = np.random.choice(n, size=10)\n",
    "X[ind_to_scale, :] *= 10"
   ]
  },
  {
   "cell_type": "markdown",
   "metadata": {},
   "source": [
    "We sample a vector $\\mathbf{w} \\sim \\mathcal{N}(0, 25)$ and generate the dependent variables $y_i = \\mathbf{w}^\\intercal \\mathbf{x}_i+\\varepsilon_i$, where $\\varepsilon_i \\sim \\mathcal{N}(0, 1)$ is the noise."
   ]
  },
  {
   "cell_type": "code",
   "execution_count": 26,
   "metadata": {
    "collapsed": true
   },
   "outputs": [],
   "source": [
    "w_orig = np.random.normal(loc=0, scale=5, size=d)\n",
    "y = X.dot(w_orig) + np.random.randn(n)"
   ]
  },
  {
   "cell_type": "markdown",
   "metadata": {},
   "source": [
    "The performance is measured using the mean squared error."
   ]
  },
  {
   "cell_type": "code",
   "execution_count": 27,
   "metadata": {
    "collapsed": true
   },
   "outputs": [],
   "source": [
    "def mse(w, X, y):\n",
    "    return 0.5 * np.mean((X.dot(w) - y) ** 2)"
   ]
  },
  {
   "cell_type": "markdown",
   "metadata": {},
   "source": [
    "We are now ready to employ VRB and compare it to uniform sampling. In each round, we draw one sample and perform the SGD step based on it."
   ]
  },
  {
   "cell_type": "code",
   "execution_count": 30,
   "metadata": {},
   "outputs": [
    {
     "data": {
      "image/png": "[encoded data removed]",
      "text/plain": [
       "<matplotlib.figure.Figure at 0x1168a3810>"
      ]
     },
     "metadata": {},
     "output_type": "display_data"
    }
   ],
   "source": [
    "# Calculate the reference mse score\n",
    "reference_score = mse(w_orig, X, y)\n",
    "\n",
    "# Instantiate the sampler. \n",
    "# We deliberately misspecify the regularization parameter by setting it to 1. Cross-validation improves the performance.\n",
    "sampler = vrb.VarianceReducerBandit(n=n, random_state=0, reg=1, theta=0.3)\n",
    "\n",
    "uniform_scores = np.zeros(nr_epoch)\n",
    "vrb_scores = np.zeros(nr_epoch)\n",
    "\n",
    "w = np.zeros(d)\n",
    "for epoch in range(nr_epoch):\n",
    "    for i in range(n):\n",
    "        # sample index and get its associated probability\n",
    "        ind, p = sampler.sample(1)\n",
    "        \n",
    "        # set the weight inversely proportional to p\n",
    "        weigth = 1. / p / n\n",
    "        \n",
    "        # SGD step\n",
    "        grad = (X[ind].dot(w) - y[ind]) * X[ind]\n",
    "        w = w - step_size / np.sqrt(i + 1) * weigth.dot(grad)\n",
    "        \n",
    "        # feed loss back to sampler\n",
    "        sampler.update(np.linalg.norm(grad))\n",
    "        \n",
    "    vrb_scores[epoch] = mse(w, X, y)\n",
    "\n",
    "w = np.zeros(d)\n",
    "for epoch in range(nr_epoch):\n",
    "    for i in range(n):\n",
    "        ind = np.random.choice(n)\n",
    "        grad = (X[ind].dot(w) - y[ind]) * X[ind]\n",
    "        w = w - step_size / np.sqrt(i + 1) * grad\n",
    "    uniform_scores[epoch] = mse(w, X, y)\n",
    "\n",
    "line1, = plt.semilogy(vrb_scores - reference_score, color='green', label='vrb')\n",
    "line2, = plt.semilogy(uniform_scores - reference_score, color='red', label='uniform')\n",
    "plt.xlabel(\"# Epochs\")\n",
    "plt.ylabel(\"MSE\")\n",
    "\n",
    "plt.legend(handles=[line1, line2])\n",
    "plt.show()\n"
   ]
  },
  {
   "cell_type": "markdown",
   "metadata": {
    "collapsed": true
   },
   "source": [
    "[1] Salehi, Farnood, Elisa Celis, and Patrick Thiran. \"Stochastic Optimization with Bandit Sampling.\" arXiv preprint arXiv:1708.02544 (2017)."
   ]
  }
 ],
 "metadata": {
  "kernelspec": {
   "display_name": "Python 2",
   "language": "python",
   "name": "python2"
  },
  "language_info": {
   "codemirror_mode": {
    "name": "ipython",
    "version": 2
   },
   "file_extension": ".py",
   "mimetype": "text/x-python",
   "name": "python",
   "nbconvert_exporter": "python",
   "pygments_lexer": "ipython2",
   "version": "2.7.13"
  }
 },
 "nbformat": 4,
 "nbformat_minor": 1
}
